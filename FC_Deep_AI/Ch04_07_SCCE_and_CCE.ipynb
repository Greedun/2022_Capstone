{
  "nbformat": 4,
  "nbformat_minor": 0,
  "metadata": {
    "colab": {
      "name": "Ch04-07_SCCE-and-CCE.ipynb",
      "provenance": [],
      "authorship_tag": "ABX9TyODC6hH37EjJJfiPZ8Ola46",
      "include_colab_link": true
    },
    "kernelspec": {
      "name": "python3",
      "display_name": "Python 3"
    },
    "language_info": {
      "name": "python"
    }
  },
  "cells": [
    {
      "cell_type": "markdown",
      "metadata": {
        "id": "view-in-github",
        "colab_type": "text"
      },
      "source": [
        "<a href=\"https://colab.research.google.com/github/Greedun/2022_Capstone/blob/main/FC_Deep_AI/Ch04_07_SCCE_and_CCE.ipynb\" target=\"_parent\"><img src=\"https://colab.research.google.com/assets/colab-badge.svg\" alt=\"Open In Colab\"/></a>"
      ]
    },
    {
      "cell_type": "code",
      "execution_count": null,
      "metadata": {
        "id": "VkY1nSP1GMX_"
      },
      "outputs": [],
      "source": [
        ""
      ]
    }
  ]
}